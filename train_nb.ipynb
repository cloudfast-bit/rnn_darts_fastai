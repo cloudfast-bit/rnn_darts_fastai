{
 "cells": [
  {
   "cell_type": "code",
   "execution_count": null,
   "metadata": {},
   "outputs": [],
   "source": [
    "%reload_ext autoreload\n",
    "%autoreload 2\n",
    "%matplotlib inline\n",
    "\n",
    "import fastai\n",
    "print(fastai.__version__)\n",
    "from fastai import *\n",
    "from fastai.text import *\n",
    "from fastai.callbacks import CSVLogger, SaveModelCallback\n",
    "\n",
    "import torch.backends.cudnn as cudnn\n",
    "\n",
    "from train import DartsRnn, ASGD_Switch\n",
    "from darts_callbacks import HidInit, Regu, SaveModel, ResumeModel, GcCol, Genotype"
   ]
  },
  {
   "cell_type": "code",
   "execution_count": null,
   "metadata": {},
   "outputs": [],
   "source": [
    "# random seed for reproducibility.\n",
    "seed = 8\n",
    "random.seed(seed)\n",
    "np.random.seed(seed)\n",
    "torch.manual_seed(seed)\n",
    "\n",
    "gpu = 0\n",
    "torch.cuda.set_device(gpu)\n",
    "cudnn.benchmark = True\n",
    "cudnn.enabled=True\n",
    "torch.backends.cudnn.deterministic = True\n",
    "torch.cuda.manual_seed_all(seed)\n",
    "\n",
    "bs_train, bs_val = 64, 10\n",
    "bptt = 35\n",
    "dat = load_data('data', 'penn_db', bs=bs_train, bptt=bptt)\n",
    "dat.valid_dl.batch_size = bs_val\n",
    "vocab_sz = len(dat.train_ds.x.vocab.itos)\n",
    "emb_sz = 850\n",
    "hid_sz = 850\n",
    "wdecay = 8e-7\n",
    "dropout = 0.75\n",
    "dropouth = 0.25\n",
    "dropoutx = 0.75\n",
    "dropouti = 0.2\n",
    "dropoute = 0.1\n",
    "clip = 0.25\n",
    "nonmono = 5"
   ]
  },
  {
   "cell_type": "code",
   "execution_count": null,
   "metadata": {},
   "outputs": [],
   "source": [
    "# genotype for DartsRnn\n",
    "DARTS_V1 = Genotype(recurrent=[('relu', 0), ('relu', 1), ('tanh', 2), ('relu', 3), ('relu', 4), \n",
    "                               ('identity', 1), ('relu', 5), ('relu', 1)], concat=range(1, 9))\n",
    "\n",
    "DARTS_V2 = Genotype(recurrent=[('sigmoid', 0), ('relu', 1), ('relu', 1), ('identity', 1), ('tanh', 2), \n",
    "                               ('sigmoid', 5), ('tanh', 3), ('relu', 5)], concat=range(1, 9))"
   ]
  },
  {
   "cell_type": "code",
   "execution_count": null,
   "metadata": {},
   "outputs": [],
   "source": [
    "csv_name = 'train'\n",
    "model_name = 'train'\n",
    "resume_model = ''"
   ]
  },
  {
   "cell_type": "code",
   "execution_count": null,
   "metadata": {},
   "outputs": [],
   "source": [
    "learn = Learner(dat, DartsRnn(emb_sz = emb_sz, vocab_sz = vocab_sz,\n",
    "                              ninp = emb_sz, nhid = hid_sz, \n",
    "                              dropout = dropout, dropouth = dropouth, dropoutx = dropoutx,\n",
    "                              dropouti = dropouti, dropoute = dropoute,\n",
    "                              bs_train = bs_train, bs_val = bs_val,\n",
    "                              genotype = DARTS_V1), \n",
    "                opt_func = torch.optim.SGD,\n",
    "                callback_fns = [\n",
    "                    HidInit,\n",
    "                    Regu,\n",
    "                    partial(GradientClipping, clip=clip),\n",
    "                    partial(CSVLogger, filename = csv_name, append=True),\n",
    "                    partial(ASGD_Switch, nonmono = nonmono, asgd=False), \n",
    "                    # asgd == True if using asgd right from the start\n",
    "                    GcCol,\n",
    "#                     partial(ResumeModel, name = resume_model)\n",
    "                ],\n",
    "                wd = wdecay, true_wd=False\n",
    "                )\n",
    "\n",
    "total_params = sum(x.nelement() for x in learn.model.parameters())\n",
    "print(total_params)\n",
    "print(learn.model.rnn.genotype)"
   ]
  },
  {
   "cell_type": "code",
   "execution_count": null,
   "metadata": {},
   "outputs": [],
   "source": [
    "learn.fit(5, 20, callbacks=[\n",
    "#     SaveModel(learn, gap = 20, name=model_name),\n",
    "    SaveModelCallback(learn, name=model_name) # save on improvement\n",
    "                              ])"
   ]
  }
 ],
 "metadata": {
  "kernelspec": {
   "display_name": "Python 3",
   "language": "python",
   "name": "python3"
  },
  "language_info": {
   "codemirror_mode": {
    "name": "ipython",
    "version": 3
   },
   "file_extension": ".py",
   "mimetype": "text/x-python",
   "name": "python",
   "nbconvert_exporter": "python",
   "pygments_lexer": "ipython3",
   "version": "3.7.1"
  }
 },
 "nbformat": 4,
 "nbformat_minor": 2
}
